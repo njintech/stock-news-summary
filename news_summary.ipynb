{
  "nbformat": 4,
  "nbformat_minor": 0,
  "metadata": {
    "colab": {
      "name": "news_summary.ipynb",
      "provenance": [],
      "authorship_tag": "ABX9TyNWulm+6m+ILKSvJFAzvsbz",
      "include_colab_link": true
    },
    "kernelspec": {
      "name": "python3",
      "display_name": "Python 3"
    }
  },
  "cells": [
    {
      "cell_type": "markdown",
      "metadata": {
        "id": "view-in-github",
        "colab_type": "text"
      },
      "source": [
        "<a href=\"https://colab.research.google.com/github/njintech/stock-news-summary/blob/main/news_summary.ipynb\" target=\"_parent\"><img src=\"https://colab.research.google.com/assets/colab-badge.svg\" alt=\"Open In Colab\"/></a>"
      ]
    },
    {
      "cell_type": "code",
      "metadata": {
        "id": "_5WgkAtdJPY1"
      },
      "source": [
        "%%capture\n",
        "! pip install kora\n",
        "!pip install pororo -q\n",
        "!pip install imapclient -q\n",
        "! pip install pretty_html_table "
      ],
      "execution_count": null,
      "outputs": []
    },
    {
      "cell_type": "code",
      "metadata": {
        "id": "vkCanjX_Jc3a"
      },
      "source": [
        ""
      ],
      "execution_count": null,
      "outputs": []
    }
  ]
}